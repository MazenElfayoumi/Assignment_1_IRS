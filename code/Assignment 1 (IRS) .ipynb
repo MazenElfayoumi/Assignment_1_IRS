{
 "cells": [
  {
   "cell_type": "markdown",
   "id": "a3db1952",
   "metadata": {},
   "source": [
    " # the first movie that was data scrapped  \n",
    " (Harry Potter and the Deathly Hallows: Part 2)"
   ]
  },
  {
   "cell_type": "code",
   "execution_count": 1,
   "id": "7317411e",
   "metadata": {},
   "outputs": [
    {
     "name": "stderr",
     "output_type": "stream",
     "text": [
      "C:\\Users\\mezom\\anaconda3\\Lib\\site-packages\\pandas\\core\\arrays\\masked.py:60: UserWarning: Pandas requires version '1.3.6' or newer of 'bottleneck' (version '1.3.5' currently installed).\n",
      "  from pandas.core import (\n"
     ]
    },
    {
     "name": "stdout",
     "output_type": "stream",
     "text": [
      "        username                                             rating  \\\n",
      "0   Don Shanahan  | Original Score: 5/5\\n                \\n     ...   \n",
      "1    Martin Carr  | Original Score: 8/10\\n                \\n    ...   \n",
      "2   Sean Axmaker                                                  |   \n",
      "3   Brian Eggert  | Original Score: 3.5/4\\n                \\n   ...   \n",
      "4  Cory Woodroof                                                  |   \n",
      "\n",
      "                                     movie name  \n",
      "0  Harry Potter and the Deathly Hallows: Part 2  \n",
      "1  Harry Potter and the Deathly Hallows: Part 2  \n",
      "2  Harry Potter and the Deathly Hallows: Part 2  \n",
      "3  Harry Potter and the Deathly Hallows: Part 2  \n",
      "4  Harry Potter and the Deathly Hallows: Part 2  \n"
     ]
    }
   ],
   "source": [
    "import pandas as pd\n",
    "\n",
    "# Load the CSV file\n",
    "file_path = 'D:/year_4/IRS/Assignments/assignment 1/data/Harry_Potter_and_the_Deathly_Hallows_Part_2.csv'  # Replace with the actual file path\n",
    "df = pd.read_csv(file_path)\n",
    "\n",
    "# Select only the required columns and rename them\n",
    "df = df[['display-name', 'original-score-and-url']]\n",
    "df.rename(columns={'display-name': 'username', 'original-score-and-url': 'rating'}, inplace=True)\n",
    "\n",
    "# Add a new column with the movie name\n",
    "df['movie name'] = 'Harry Potter and the Deathly Hallows: Part 2'\n",
    "\n",
    "# Save the formatted CSV (optional)\n",
    "df.to_csv('formatted_Harry_Potter_reviews.csv', index=False)\n",
    "\n",
    "# Display the first few rows to verify\n",
    "print(df.head())\n"
   ]
  },
  {
   "cell_type": "code",
   "execution_count": 2,
   "id": "b49c7f61",
   "metadata": {},
   "outputs": [],
   "source": [
    "download_path = 'D:/year_4/IRS/Assignments/assignment 1/data/formated csv/Harry_Potter_and_the_Deathly_Hallows_Part_2_formated.csv'  # Replace with your desired path\n",
    "\n",
    "# Save the formatted CSV to the specified path\n",
    "df.to_csv(download_path, index=False)"
   ]
  },
  {
   "cell_type": "markdown",
   "id": "f5322e72",
   "metadata": {},
   "source": [
    " # the second movie that was data scrapped  \n",
    " (Harry Potter and the Sorcerer's Stone)"
   ]
  },
  {
   "cell_type": "code",
   "execution_count": 3,
   "id": "bc690768",
   "metadata": {},
   "outputs": [
    {
     "name": "stdout",
     "output_type": "stream",
     "text": [
      "               username                                             rating  \\\n",
      "0           Martin Carr  | Original Score: 8/10\\n                \\n    ...   \n",
      "1          Sean Axmaker                                                  |   \n",
      "2          David Nusair  | Original Score: 2.5/4\\n                \\n   ...   \n",
      "3           Kevin Maher  | Original Score: 4/5\\n                \\n     ...   \n",
      "4  Film Companion Staff                                                  |   \n",
      "\n",
      "                             movie name  \n",
      "0  Harry Potter and the Sorcerers Stone  \n",
      "1  Harry Potter and the Sorcerers Stone  \n",
      "2  Harry Potter and the Sorcerers Stone  \n",
      "3  Harry Potter and the Sorcerers Stone  \n",
      "4  Harry Potter and the Sorcerers Stone  \n"
     ]
    }
   ],
   "source": [
    "import pandas as pd\n",
    "\n",
    "# Load the CSV file\n",
    "file_path = 'D:/year_4/IRS/Assignments/assignment 1/data/Harry_Potter_and_the_Sorcerers_Stone.csv'  # Replace with the actual file path\n",
    "df = pd.read_csv(file_path)\n",
    "\n",
    "# Select only the required columns and rename them\n",
    "df = df[['display-name', 'original-score-and-url']]\n",
    "df.rename(columns={'display-name': 'username', 'original-score-and-url': 'rating'}, inplace=True)\n",
    "\n",
    "# Add a new column with the movie name\n",
    "df['movie name'] = 'Harry Potter and the Sorcerers Stone'\n",
    "\n",
    "# Save the formatted CSV (optional)\n",
    "df.to_csv('formatted_Harry_Potter_reviews.csv', index=False)\n",
    "\n",
    "# Display the first few rows to verify\n",
    "print(df.head())\n"
   ]
  },
  {
   "cell_type": "code",
   "execution_count": 4,
   "id": "d9c65f67",
   "metadata": {},
   "outputs": [],
   "source": [
    "download_path = 'D:/year_4/IRS/Assignments/assignment 1/data/formated csv/Harry_Potter_and_the_Sorcerers_Stone_formated.csv'  # Replace with your desired path\n",
    "\n",
    "# Save the formatted CSV to the specified path\n",
    "df.to_csv(download_path, index=False)"
   ]
  },
  {
   "cell_type": "markdown",
   "id": "b02e254a",
   "metadata": {},
   "source": [
    " # the third movie that was data scrapped  \n",
    " (Harry Potter and the Prisoner of Azkaban)"
   ]
  },
  {
   "cell_type": "code",
   "execution_count": 5,
   "id": "04d1f7a0",
   "metadata": {},
   "outputs": [
    {
     "name": "stdout",
     "output_type": "stream",
     "text": [
      "                username                                             rating  \\\n",
      "0            Martin Carr  | Original Score: 8/10\\n                \\n    ...   \n",
      "1  Sebastian Zavala Kahn  | Original Score: 4.5/5\\n                \\n   ...   \n",
      "2            Kevin Maher  | Original Score: 4/5\\n                \\n     ...   \n",
      "3          Dave Giannini                                                  |   \n",
      "4           Sean Axmaker                                                  |   \n",
      "\n",
      "                                 movie name  \n",
      "0  Harry Potter and the Prisoner of Azkaban  \n",
      "1  Harry Potter and the Prisoner of Azkaban  \n",
      "2  Harry Potter and the Prisoner of Azkaban  \n",
      "3  Harry Potter and the Prisoner of Azkaban  \n",
      "4  Harry Potter and the Prisoner of Azkaban  \n"
     ]
    }
   ],
   "source": [
    "import pandas as pd\n",
    "\n",
    "# Load the CSV file\n",
    "file_path = 'D:/year_4/IRS/Assignments/assignment 1/data/Harry_Potter_and_the_Prisoner_of_Azkaban.csv'  # Replace with the actual file path\n",
    "df = pd.read_csv(file_path)\n",
    "\n",
    "# Select only the required columns and rename them\n",
    "df = df[['display-name', 'original-score-and-url']]\n",
    "df.rename(columns={'display-name': 'username', 'original-score-and-url': 'rating'}, inplace=True)\n",
    "\n",
    "# Add a new column with the movie name\n",
    "df['movie name'] = 'Harry Potter and the Prisoner of Azkaban'\n",
    "\n",
    "# Save the formatted CSV (optional)\n",
    "df.to_csv('formatted_Harry_Potter_reviews.csv', index=False)\n",
    "\n",
    "# Display the first few rows to verify\n",
    "print(df.head())\n"
   ]
  },
  {
   "cell_type": "code",
   "execution_count": 6,
   "id": "d34553c2",
   "metadata": {},
   "outputs": [],
   "source": [
    "download_path = 'D:/year_4/IRS/Assignments/assignment 1/data/formated csv/Harry_Potter_and_the_Prisoner_of_Azkaban_formated.csv'  # Replace with your desired path\n",
    "\n",
    "# Save the formatted CSV to the specified path\n",
    "df.to_csv(download_path, index=False)"
   ]
  },
  {
   "cell_type": "markdown",
   "id": "7b182250",
   "metadata": {},
   "source": [
    " # the fourth movie that was data scrapped  \n",
    " (Harry Potter and the Goblet of Fire )"
   ]
  },
  {
   "cell_type": "code",
   "execution_count": 7,
   "id": "5e10b3ad",
   "metadata": {},
   "outputs": [
    {
     "name": "stdout",
     "output_type": "stream",
     "text": [
      "            username                                             rating  \\\n",
      "0        Martin Carr  | Original Score: 8/10\\n                \\n    ...   \n",
      "1       Sean Axmaker                                                  |   \n",
      "2       David Nusair  | Original Score: 2.5/4\\n                \\n   ...   \n",
      "3        Mike Massie  | Original Score: 6/10\\n                \\n    ...   \n",
      "4  Debbie Lynn Elias                                                  |   \n",
      "\n",
      "                            movie name  \n",
      "0  Harry Potter and the Goblet of Fire  \n",
      "1  Harry Potter and the Goblet of Fire  \n",
      "2  Harry Potter and the Goblet of Fire  \n",
      "3  Harry Potter and the Goblet of Fire  \n",
      "4  Harry Potter and the Goblet of Fire  \n"
     ]
    }
   ],
   "source": [
    "import pandas as pd\n",
    "\n",
    "# Load the CSV file\n",
    "file_path = 'D:/year_4/IRS/Assignments/assignment 1/data/Harry_Potter_and_the_Goblet_of_Fire.csv'  # Replace with the actual file path\n",
    "df = pd.read_csv(file_path)\n",
    "\n",
    "# Select only the required columns and rename them\n",
    "df = df[['display-name', 'original-score-and-url']]\n",
    "df.rename(columns={'display-name': 'username', 'original-score-and-url': 'rating'}, inplace=True)\n",
    "\n",
    "# Add a new column with the movie name\n",
    "df['movie name'] = 'Harry Potter and the Goblet of Fire'\n",
    "\n",
    "# Save the formatted CSV (optional)\n",
    "df.to_csv('formatted_Harry_Potter_reviews.csv', index=False)\n",
    "\n",
    "# Display the first few rows to verify\n",
    "print(df.head())\n"
   ]
  },
  {
   "cell_type": "code",
   "execution_count": 8,
   "id": "2338912f",
   "metadata": {},
   "outputs": [],
   "source": [
    "download_path = 'D:/year_4/IRS/Assignments/assignment 1/data/formated csv/Harry_Potter_and_the_Goblet_of_Fire_formated.csv'  # Replace with your desired path\n",
    "\n",
    "# Save the formatted CSV to the specified path\n",
    "df.to_csv(download_path, index=False)"
   ]
  },
  {
   "cell_type": "markdown",
   "id": "dd17de52",
   "metadata": {},
   "source": [
    " # the fourth movie that was data scrapped  \n",
    " (Harry Potter and the Order of the Phoenix )"
   ]
  },
  {
   "cell_type": "code",
   "execution_count": 9,
   "id": "ec7c8284",
   "metadata": {},
   "outputs": [
    {
     "name": "stdout",
     "output_type": "stream",
     "text": [
      "         username                                             rating  \\\n",
      "0  Rachel LaBonte  | Original Score: 4/5\\n                \\n     ...   \n",
      "1    David Nusair  | Original Score: 3/4\\n                \\n     ...   \n",
      "2     Mike Massie  | Original Score: 4/10\\n                \\n    ...   \n",
      "3   Leigh Paatsch  | Original Score: 3/5\\n                \\n     ...   \n",
      "4   Sergi Sánchez  | Original Score: 3/5\\n                \\n     ...   \n",
      "\n",
      "                                  movie name  \n",
      "0  Harry Potter and the Order of the Phoenix  \n",
      "1  Harry Potter and the Order of the Phoenix  \n",
      "2  Harry Potter and the Order of the Phoenix  \n",
      "3  Harry Potter and the Order of the Phoenix  \n",
      "4  Harry Potter and the Order of the Phoenix  \n"
     ]
    }
   ],
   "source": [
    "import pandas as pd\n",
    "\n",
    "# Load the CSV file\n",
    "file_path = 'D:/year_4/IRS/Assignments/assignment 1/data/Harry_Potter_and_the_Order_of_the_Phoenix.csv'  # Replace with the actual file path\n",
    "df = pd.read_csv(file_path)\n",
    "\n",
    "# Select only the required columns and rename them\n",
    "df = df[['display-name', 'original-score-and-url']]\n",
    "df.rename(columns={'display-name': 'username', 'original-score-and-url': 'rating'}, inplace=True)\n",
    "\n",
    "# Add a new column with the movie name\n",
    "df['movie name'] = 'Harry Potter and the Order of the Phoenix'\n",
    "\n",
    "# Save the formatted CSV (optional)\n",
    "df.to_csv('formatted_Harry_Potter_reviews.csv', index=False)\n",
    "\n",
    "# Display the first few rows to verify\n",
    "print(df.head())\n"
   ]
  },
  {
   "cell_type": "code",
   "execution_count": 10,
   "id": "e7bc425c",
   "metadata": {},
   "outputs": [],
   "source": [
    "download_path = 'D:/year_4/IRS/Assignments/assignment 1/data/formated csv/Harry_Potter_and_the_Order_of_the_Phoenix_formated.csv'  # Replace with your desired path\n",
    "\n",
    "# Save the formatted CSV to the specified path\n",
    "df.to_csv(download_path, index=False)"
   ]
  },
  {
   "cell_type": "markdown",
   "id": "bea088d0",
   "metadata": {},
   "source": [
    "# this section is for fusing all the csv files\n"
   ]
  },
  {
   "cell_type": "code",
   "execution_count": 11,
   "id": "d9994e86",
   "metadata": {},
   "outputs": [],
   "source": [
    "import pandas as pd\n",
    "\n",
    "# Paths to each formatted CSV file\n",
    "file_paths = [\n",
    "    'D:/year_4/IRS/Assignments/assignment 1/data/formated csv/Harry_Potter_and_the_Deathly_Hallows_Part_2_formated.csv',\n",
    "    'D:/year_4/IRS/Assignments/assignment 1/data/formated csv/Harry_Potter_and_the_Goblet_of_Fire_formated.csv',\n",
    "    'D:/year_4/IRS/Assignments/assignment 1/data/formated csv/Harry_Potter_and_the_Order_of_the_Phoenix_formated.csv',\n",
    "    'D:/year_4/IRS/Assignments/assignment 1/data/formated csv/Harry_Potter_and_the_Prisoner_of_Azkaban_formated.csv',\n",
    "    'D:/year_4/IRS/Assignments/assignment 1/data/formated csv/Harry_Potter_and_the_Sorcerers_Stone_formated.csv'\n",
    "]\n",
    "\n",
    "# Read and concatenate all CSV files\n",
    "dfs = [pd.read_csv(file) for file in file_paths]\n",
    "combined_df = pd.concat(dfs, ignore_index=True)\n",
    "\n",
    "# Save the combined DataFrame to a new CSV file\n",
    "output_path = 'D:/year_4/IRS/Assignments/assignment 1/data/formated csv/Combined_Harry_Potter_Reviews.csv'\n",
    "combined_df.to_csv(output_path, index=False)\n"
   ]
  },
  {
   "cell_type": "code",
   "execution_count": 15,
   "id": "1be552fa",
   "metadata": {},
   "outputs": [
    {
     "name": "stdout",
     "output_type": "stream",
     "text": [
      "User-Based Prediction for User 1 on Movie 5: 7.68654501628869\n",
      "Item-Based Prediction for User 1 on Movie 5: 8.0\n",
      "Top-5 User-Based Recommendations for User 1: [('movie_1', 9.077401313420587), ('moive_3', 8.278825458872234), ('_', 8.0), ('movie_5', 7.68654501628869), ('movie_2', 7.676040919903758)]\n",
      "Top-5 Item-Based Recommendations for User 1: [('movie_1', 8.0), ('movie_2', 8.0), ('moive_3', 8.0), ('movie_4', 8.0), ('movie_5', 8.0)]\n"
     ]
    }
   ],
   "source": [
    "import pandas as pd\n",
    "import numpy as np\n",
    "from sklearn.metrics.pairwise import cosine_similarity\n",
    "from scipy.stats import pearsonr\n",
    "\n",
    "\n",
    "df = pd.read_csv('D:/year_4/IRS/Assignments/assignment 1/data/formated csv/Final_user_matrix.csv')\n",
    "\n",
    "df.set_index('user_id', inplace=True)\n",
    "\n",
    "\n",
    "df = df.apply(pd.to_numeric, errors='coerce')\n",
    "\n",
    "\n",
    "df = df.apply(lambda x: x.fillna(x.mean()), axis=1)\n",
    "\n",
    "\n",
    "user_cosine_similarity = pd.DataFrame(cosine_similarity(df), index=df.index, columns=df.index)\n",
    "\n",
    "\n",
    "user_pearson_similarity = df.T.corr(method='pearson')\n",
    "\n",
    "\n",
    "item_cosine_similarity = pd.DataFrame(cosine_similarity(df.T), index=df.columns, columns=df.columns)\n",
    "\n",
    "\n",
    "item_pearson_similarity = df.corr(method='pearson')\n",
    "\n",
    "\n",
    "def predict_user_based(user_id, item, similarity_matrix, user_mean):\n",
    "    similar_users = similarity_matrix[user_id]\n",
    "    ratings = df[item]\n",
    "    numerator = sum(similar_users * (ratings - user_mean))\n",
    "    denominator = sum(abs(similar_users))\n",
    "    return user_mean[user_id] + (numerator / denominator) if denominator != 0 else user_mean[user_id]\n",
    "\n",
    "def predict_item_based(user_id, item, similarity_matrix):\n",
    "    similar_items = similarity_matrix[item]\n",
    "    ratings = df.loc[user_id]\n",
    "    numerator = sum(similar_items * ratings)\n",
    "    denominator = sum(abs(similar_items))\n",
    "    return numerator / denominator if denominator != 0 else ratings.mean()\n",
    "\n",
    "\n",
    "user_mean = df.mean(axis=1)\n",
    "user_id = 1\n",
    "item = 'movie_5'\n",
    "user_based_prediction = predict_user_based(user_id, item, user_cosine_similarity, user_mean)\n",
    "item_based_prediction = predict_item_based(user_id, item, item_cosine_similarity)\n",
    "\n",
    "\n",
    "def top_n_recommendations(user_id, n=5, method='user'):\n",
    "    if method == 'user':\n",
    "        predictions = {item: predict_user_based(user_id, item, user_cosine_similarity, user_mean) for item in df.columns}\n",
    "    else:\n",
    "        predictions = {item: predict_item_based(user_id, item, item_cosine_similarity) for item in df.columns}\n",
    "    return sorted(predictions.items(), key=lambda x: x[1], reverse=True)[:n]\n",
    "\n",
    "top_n_user_based = top_n_recommendations(user_id, n=5, method='user')\n",
    "top_n_item_based = top_n_recommendations(user_id, n=5, method='item')\n",
    "\n",
    "print(\"User-Based Prediction for User 1 on Movie 5:\", user_based_prediction)\n",
    "print(\"Item-Based Prediction for User 1 on Movie 5:\", item_based_prediction)\n",
    "print(\"Top-5 User-Based Recommendations for User 1:\", top_n_user_based)\n",
    "print(\"Top-5 Item-Based Recommendations for User 1:\", top_n_item_based)\n"
   ]
  }
 ],
 "metadata": {
  "kernelspec": {
   "display_name": "Python 3 (ipykernel)",
   "language": "python",
   "name": "python3"
  },
  "language_info": {
   "codemirror_mode": {
    "name": "ipython",
    "version": 3
   },
   "file_extension": ".py",
   "mimetype": "text/x-python",
   "name": "python",
   "nbconvert_exporter": "python",
   "pygments_lexer": "ipython3",
   "version": "3.11.5"
  }
 },
 "nbformat": 4,
 "nbformat_minor": 5
}
